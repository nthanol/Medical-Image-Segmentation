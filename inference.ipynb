{
 "cells": [
  {
   "cell_type": "code",
   "execution_count": 1,
   "id": "4a7487ed",
   "metadata": {
    "execution": {
     "iopub.execute_input": "2024-02-05T17:45:38.293141Z",
     "iopub.status.busy": "2024-02-05T17:45:38.292213Z",
     "iopub.status.idle": "2024-02-05T17:45:53.973476Z",
     "shell.execute_reply": "2024-02-05T17:45:53.972610Z"
    },
    "papermill": {
     "duration": 15.689592,
     "end_time": "2024-02-05T17:45:53.975851",
     "exception": false,
     "start_time": "2024-02-05T17:45:38.286259",
     "status": "completed"
    },
    "tags": []
   },
   "outputs": [
    {
     "name": "stderr",
     "output_type": "stream",
     "text": [
      "/opt/conda/lib/python3.10/site-packages/scipy/__init__.py:146: UserWarning: A NumPy version >=1.16.5 and <1.23.0 is required for this version of SciPy (detected version 1.24.3\n",
      "  warnings.warn(f\"A NumPy version >={np_minversion} and <{np_maxversion}\"\n"
     ]
    }
   ],
   "source": [
    "import torch\n",
    "from torchvision import transforms\n",
    "from torch.utils.data import DataLoader\n",
    "from torch.utils.tensorboard import SummaryWriter\n",
    "import numpy as np\n",
    "import torch.nn.functional as F\n",
    "\n",
    "import os"
   ]
  },
  {
   "cell_type": "code",
   "execution_count": 2,
   "id": "6d3294d8",
   "metadata": {
    "execution": {
     "iopub.execute_input": "2024-02-05T17:45:53.985386Z",
     "iopub.status.busy": "2024-02-05T17:45:53.984566Z",
     "iopub.status.idle": "2024-02-05T17:45:53.989074Z",
     "shell.execute_reply": "2024-02-05T17:45:53.988196Z"
    },
    "papermill": {
     "duration": 0.01101,
     "end_time": "2024-02-05T17:45:53.990965",
     "exception": false,
     "start_time": "2024-02-05T17:45:53.979955",
     "status": "completed"
    },
    "tags": []
   },
   "outputs": [],
   "source": [
    "import sys\n",
    "sys.path.append('/kaggle/input/senfiles')"
   ]
  },
  {
   "cell_type": "code",
   "execution_count": 3,
   "id": "747c6a9a",
   "metadata": {
    "execution": {
     "iopub.execute_input": "2024-02-05T17:45:53.999600Z",
     "iopub.status.busy": "2024-02-05T17:45:53.999010Z",
     "iopub.status.idle": "2024-02-05T17:45:58.664677Z",
     "shell.execute_reply": "2024-02-05T17:45:58.663800Z"
    },
    "papermill": {
     "duration": 4.672432,
     "end_time": "2024-02-05T17:45:58.667053",
     "exception": false,
     "start_time": "2024-02-05T17:45:53.994621",
     "status": "completed"
    },
    "tags": []
   },
   "outputs": [
    {
     "name": "stderr",
     "output_type": "stream",
     "text": [
      "/opt/conda/lib/python3.10/site-packages/torchvision/datapoints/__init__.py:12: UserWarning: The torchvision.datapoints and torchvision.transforms.v2 namespaces are still Beta. While we do not expect major breaking changes, some APIs may still change according to user feedback. Please submit any feedback you may have in this issue: https://github.com/pytorch/vision/issues/6753, and you can also check out https://github.com/pytorch/vision/issues/7319 to learn more about the APIs that we suspect might involve future changes. You can silence this warning by calling torchvision.disable_beta_transforms_warning().\n",
      "  warnings.warn(_BETA_TRANSFORMS_WARNING)\n",
      "/opt/conda/lib/python3.10/site-packages/torchvision/transforms/v2/__init__.py:54: UserWarning: The torchvision.datapoints and torchvision.transforms.v2 namespaces are still Beta. While we do not expect major breaking changes, some APIs may still change according to user feedback. Please submit any feedback you may have in this issue: https://github.com/pytorch/vision/issues/6753, and you can also check out https://github.com/pytorch/vision/issues/7319 to learn more about the APIs that we suspect might involve future changes. You can silence this warning by calling torchvision.disable_beta_transforms_warning().\n",
      "  warnings.warn(_BETA_TRANSFORMS_WARNING)\n",
      "2024-02-05 17:45:56,652\tINFO util.py:129 -- Outdated packages:\n",
      "  ipywidgets==7.7.1 found, needs ipywidgets>=8\n",
      "Run `pip install -U ipywidgets`, then restart the notebook server for rich notebook output.\n",
      "2024-02-05 17:45:57,101\tINFO util.py:129 -- Outdated packages:\n",
      "  ipywidgets==7.7.1 found, needs ipywidgets>=8\n",
      "Run `pip install -U ipywidgets`, then restart the notebook server for rich notebook output.\n"
     ]
    }
   ],
   "source": [
    "from models import ModernTransUNetV2\n",
    "from misc import initialize_config, rle_encode\n",
    "from data import initialize_data, TestDataset, test_collate\n",
    "from loss import CombinedLoss\n",
    "from wheels import train, evaluate"
   ]
  },
  {
   "cell_type": "code",
   "execution_count": 4,
   "id": "7c25eb19",
   "metadata": {
    "execution": {
     "iopub.execute_input": "2024-02-05T17:45:58.676934Z",
     "iopub.status.busy": "2024-02-05T17:45:58.676305Z",
     "iopub.status.idle": "2024-02-05T17:46:03.826605Z",
     "shell.execute_reply": "2024-02-05T17:46:03.825732Z"
    },
    "papermill": {
     "duration": 5.157715,
     "end_time": "2024-02-05T17:46:03.829080",
     "exception": false,
     "start_time": "2024-02-05T17:45:58.671365",
     "status": "completed"
    },
    "tags": []
   },
   "outputs": [],
   "source": [
    "# Given a directory containing the data folders\n",
    "ROOT ='/kaggle/input/'\n",
    "\n",
    "config = initialize_config(ROOT)\n",
    "config[\"weights\"] = '/kaggle/input/weights/mk2p2.pth'"
   ]
  },
  {
   "cell_type": "code",
   "execution_count": 5,
   "id": "b879d471",
   "metadata": {
    "execution": {
     "iopub.execute_input": "2024-02-05T17:46:03.839099Z",
     "iopub.status.busy": "2024-02-05T17:46:03.838498Z",
     "iopub.status.idle": "2024-02-05T17:46:03.847850Z",
     "shell.execute_reply": "2024-02-05T17:46:03.846938Z"
    },
    "papermill": {
     "duration": 0.016626,
     "end_time": "2024-02-05T17:46:03.849988",
     "exception": false,
     "start_time": "2024-02-05T17:46:03.833362",
     "status": "completed"
    },
    "tags": []
   },
   "outputs": [],
   "source": [
    "config[\"model_params\"][\"resnet_settings\"][\"blocks\"] = [3, 4, 9]\n",
    "#config[\"train_params\"][\"kidney_names\"] = ['kidney_3_dense', 'kidney_3_sparse', 'kidney_1_voi']\n",
    "#config[\"validation_params\"][\"kidney_names\"] = ['kidney_1_dense', 'kidney_1_voi', 'kidney_2', 'kidney_3_sparse']\n",
    "config[\"num_workers\"] = 4\n",
    "config[\"batch_size\"] = 4\n",
    "config[\"epochs\"] = 90\n",
    "#config[\"threshold\"] = .1\n",
    "\n",
    "config[\"model_params\"][\"parallel_settings\"][\"trunk_blocks\"] = 3\n",
    "\n",
    "config[\"model_params\"][\"resnet_settings\"][\"normalization\"] = \"group\"\n",
    "config[\"model_params\"][\"leakyReLU\"] = True\n",
    "config[\"model_params\"][\"instanceNorm\"] = False\n",
    "config[\"model_params\"][\"trunk/res_channels\"] = 32\n",
    "config[\"model_params\"][\"parallel_settings\"][\"flag\"] = True\n",
    "config[\"model_params\"][\"parallel_settings\"][\"concatenate\"] = True\n",
    "config[\"model_params\"][\"parallel_settings\"][\"branch_blocks\"] = 1\n",
    "\n",
    "\n",
    "config[\"model_params\"][\"transformer_params\"][\"num_layers\"] = 12\n",
    "config[\"model_params\"][\"transformer_params\"][\"num_heads\"] = 12\n",
    "config[\"model_params\"][\"transformer_params\"][\"hidden_dim\"] = 768\n",
    "config[\"model_params\"][\"transformer_params\"][\"mlp_dim\"] = 3072\n",
    "\n",
    "config[\"model_params\"][\"interpolation_settings\"][\"flag\"] = True\n",
    "config[\"model_params\"][\"interpolation_settings\"][\"topper\"] = True\n",
    "config[\"model_params\"][\"interpolation_settings\"][\"root_out\"] = 16\n",
    "config[\"model_params\"][\"interpolation_settings\"][\"blocks\"] = 1\n",
    "config[\"model_params\"][\"interpolation_settings\"][\"normalization\"] = 'group'"
   ]
  },
  {
   "cell_type": "code",
   "execution_count": 6,
   "id": "7d0981f2",
   "metadata": {
    "execution": {
     "iopub.execute_input": "2024-02-05T17:46:03.859318Z",
     "iopub.status.busy": "2024-02-05T17:46:03.858811Z",
     "iopub.status.idle": "2024-02-05T17:46:03.868146Z",
     "shell.execute_reply": "2024-02-05T17:46:03.867440Z"
    },
    "papermill": {
     "duration": 0.016038,
     "end_time": "2024-02-05T17:46:03.870064",
     "exception": false,
     "start_time": "2024-02-05T17:46:03.854026",
     "status": "completed"
    },
    "tags": []
   },
   "outputs": [],
   "source": [
    "config[\"model_params\"][\"resnet_settings\"][\"blocks\"] = [3, 4, 9]\n",
    "\n",
    "#config[\"train_params\"][\"kidney_names\"] = ['kidney_2', 'kidney_1_voi']\n",
    "#config[\"validation_params\"][\"kidney_names\"] = ['kidney_1_dense', 'kidney_3_dense', 'kidney_3_sparse', 'kidney_1_voi']\n",
    "config[\"train_params\"][\"kidney_names\"] = ['kidney_1_voi', 'kidney_3_dense', 'kidney_3_sparse']\n",
    "config[\"validation_params\"][\"kidney_names\"] = ['kidney_1_dense', 'kidney_2', 'kidney_1_voi']\n",
    "\n",
    "config[\"num_workers\"] = 4\n",
    "config[\"batch_size\"] = 4\n",
    "config[\"epochs\"] = 90\n",
    "#config[\"threshold\"] = .1\n",
    "\n",
    "config[\"model_params\"][\"parallel_settings\"][\"trunk_blocks\"] = 1\n",
    "\n",
    "config[\"model_params\"][\"resnet_settings\"][\"normalization\"] = \"group\"\n",
    "config[\"model_params\"][\"leakyReLU\"] = True\n",
    "config[\"model_params\"][\"instanceNorm\"] = False\n",
    "config[\"model_params\"][\"trunk/res_channels\"] = 32\n",
    "config[\"model_params\"][\"parallel_settings\"][\"flag\"] = True\n",
    "config[\"model_params\"][\"parallel_settings\"][\"concatenate\"] = True\n",
    "config[\"model_params\"][\"parallel_settings\"][\"branch_blocks\"] = 1\n",
    "\n",
    "\n",
    "config[\"model_params\"][\"transformer_params\"][\"num_layers\"] = 12\n",
    "config[\"model_params\"][\"transformer_params\"][\"num_heads\"] = 16\n",
    "config[\"model_params\"][\"transformer_params\"][\"hidden_dim\"] = 768\n",
    "config[\"model_params\"][\"transformer_params\"][\"mlp_dim\"] = 3072\n",
    "\n",
    "config[\"model_params\"][\"interpolation_settings\"][\"flag\"] = True\n",
    "config[\"model_params\"][\"interpolation_settings\"][\"topper\"] = True\n",
    "config[\"model_params\"][\"interpolation_settings\"][\"root_out\"] = 16\n",
    "config[\"model_params\"][\"interpolation_settings\"][\"blocks\"] = 1\n",
    "config[\"model_params\"][\"interpolation_settings\"][\"normalization\"] = 'group'"
   ]
  },
  {
   "cell_type": "code",
   "execution_count": 7,
   "id": "813c7ccd",
   "metadata": {
    "execution": {
     "iopub.execute_input": "2024-02-05T17:46:03.880070Z",
     "iopub.status.busy": "2024-02-05T17:46:03.879809Z",
     "iopub.status.idle": "2024-02-05T17:46:04.921051Z",
     "shell.execute_reply": "2024-02-05T17:46:04.919962Z"
    },
    "papermill": {
     "duration": 1.048433,
     "end_time": "2024-02-05T17:46:04.923460",
     "exception": false,
     "start_time": "2024-02-05T17:46:03.875027",
     "status": "completed"
    },
    "tags": []
   },
   "outputs": [],
   "source": [
    "model = ModernTransUNetV2(config[\"model_params\"], config[\"device\"]).to(config[\"device\"])"
   ]
  },
  {
   "cell_type": "code",
   "execution_count": 8,
   "id": "50ab7fab",
   "metadata": {
    "execution": {
     "iopub.execute_input": "2024-02-05T17:46:04.932825Z",
     "iopub.status.busy": "2024-02-05T17:46:04.932528Z",
     "iopub.status.idle": "2024-02-05T17:46:14.325335Z",
     "shell.execute_reply": "2024-02-05T17:46:14.324440Z"
    },
    "papermill": {
     "duration": 9.400205,
     "end_time": "2024-02-05T17:46:14.327831",
     "exception": false,
     "start_time": "2024-02-05T17:46:04.927626",
     "status": "completed"
    },
    "tags": []
   },
   "outputs": [],
   "source": [
    "if config[\"weights\"]:\n",
    "    components = torch.load(config[\"weights\"])\n",
    "    model.load_state_dict(components[\"model_state_dict\"])\n",
    "\n"
   ]
  },
  {
   "cell_type": "code",
   "execution_count": 9,
   "id": "5ae50ba2",
   "metadata": {
    "execution": {
     "iopub.execute_input": "2024-02-05T17:46:14.337625Z",
     "iopub.status.busy": "2024-02-05T17:46:14.337268Z",
     "iopub.status.idle": "2024-02-05T17:46:14.344926Z",
     "shell.execute_reply": "2024-02-05T17:46:14.343819Z"
    },
    "papermill": {
     "duration": 0.014904,
     "end_time": "2024-02-05T17:46:14.347043",
     "exception": false,
     "start_time": "2024-02-05T17:46:14.332139",
     "status": "completed"
    },
    "tags": []
   },
   "outputs": [
    {
     "data": {
      "text/plain": [
       "'# Check to see if the weights were loaded correctly\\ntrain_dl, validity_dl = initialize_data(config)\\navg_validation_loss, individual_losses, precision, recall, f1 = evaluate(model, validity_dl, None, config[\\'device\\'])\\n\\nprint(\\'Validation Loss: {:.4f} | Dice Loss: {:.4f} | BCE Loss: {:.4f}\\'\\n              .format(avg_validation_loss, individual_losses[0], individual_losses[1]))\\nprint(\"Precision: {:.4f} | Recall: {:.4f} | F1: {:.4f}\".format(precision, recall, f1))'"
      ]
     },
     "execution_count": 9,
     "metadata": {},
     "output_type": "execute_result"
    }
   ],
   "source": [
    "'''# Check to see if the weights were loaded correctly\n",
    "train_dl, validity_dl = initialize_data(config)\n",
    "avg_validation_loss, individual_losses, precision, recall, f1 = evaluate(model, validity_dl, None, config['device'])\n",
    "\n",
    "print('Validation Loss: {:.4f} | Dice Loss: {:.4f} | BCE Loss: {:.4f}'\n",
    "              .format(avg_validation_loss, individual_losses[0], individual_losses[1]))\n",
    "print(\"Precision: {:.4f} | Recall: {:.4f} | F1: {:.4f}\".format(precision, recall, f1))'''"
   ]
  },
  {
   "cell_type": "code",
   "execution_count": 10,
   "id": "730c1a5a",
   "metadata": {
    "execution": {
     "iopub.execute_input": "2024-02-05T17:46:14.356360Z",
     "iopub.status.busy": "2024-02-05T17:46:14.356066Z",
     "iopub.status.idle": "2024-02-05T17:46:16.189097Z",
     "shell.execute_reply": "2024-02-05T17:46:16.188103Z"
    },
    "papermill": {
     "duration": 1.840554,
     "end_time": "2024-02-05T17:46:16.191656",
     "exception": false,
     "start_time": "2024-02-05T17:46:14.351102",
     "status": "completed"
    },
    "tags": []
   },
   "outputs": [],
   "source": [
    "test_config = config[\"test_params\"]\n",
    "\n",
    "# Iterate through the directories in the test folder, yielding the path names\n",
    "test_data = TestDataset(test_config[\"test_data_path\"], test_config[\"test_transforms\"])\n",
    "submission = test_data.getSubmission()\n",
    "test_loader = DataLoader(test_data, batch_size=4, shuffle=True, collate_fn=test_collate)\n",
    "\n",
    "model.eval()\n",
    "\n",
    "with torch.no_grad():\n",
    "    for i, tdata in enumerate(test_loader):\n",
    "        test_ids, small, medium, large, original = tdata\n",
    "        test_outputs = model(small.to(config[\"device\"]), medium.to(config[\"device\"]), large.to(config[\"device\"]), original)\n",
    "\n",
    "        for j in range(len(test_outputs)):\n",
    "            mask = torch.where(test_outputs[j] > config[\"threshold\"], 1, 0)\n",
    "            encoded_test_mask = rle_encode(np.array(mask.cpu()).squeeze())\n",
    "\n",
    "            location = submission.loc[submission['id'] == test_ids[j]].index[0]\n",
    "            submission.at[location, 'rle'] = encoded_test_mask\n",
    "\n",
    "submission.to_csv('./submission.csv', index=False)"
   ]
  }
 ],
 "metadata": {
  "kaggle": {
   "accelerator": "gpu",
   "dataSources": [
    {
     "databundleVersionId": 6962461,
     "sourceId": 61446,
     "sourceType": "competition"
    },
    {
     "datasetId": 4245518,
     "sourceId": 7499745,
     "sourceType": "datasetVersion"
    },
    {
     "datasetId": 4301305,
     "sourceId": 7553721,
     "sourceType": "datasetVersion"
    }
   ],
   "dockerImageVersionId": 30636,
   "isGpuEnabled": true,
   "isInternetEnabled": false,
   "language": "python",
   "sourceType": "notebook"
  },
  "kernelspec": {
   "display_name": "Python 3",
   "language": "python",
   "name": "python3"
  },
  "language_info": {
   "codemirror_mode": {
    "name": "ipython",
    "version": 3
   },
   "file_extension": ".py",
   "mimetype": "text/x-python",
   "name": "python",
   "nbconvert_exporter": "python",
   "pygments_lexer": "ipython3",
   "version": "3.10.12"
  },
  "papermill": {
   "default_parameters": {},
   "duration": 44.573765,
   "end_time": "2024-02-05T17:46:19.429607",
   "environment_variables": {},
   "exception": null,
   "input_path": "__notebook__.ipynb",
   "output_path": "__notebook__.ipynb",
   "parameters": {},
   "start_time": "2024-02-05T17:45:34.855842",
   "version": "2.4.0"
  }
 },
 "nbformat": 4,
 "nbformat_minor": 5
}
